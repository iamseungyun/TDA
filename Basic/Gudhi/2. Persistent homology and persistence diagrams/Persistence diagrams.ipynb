{
 "cells": [
  {
   "cell_type": "code",
   "execution_count": 1,
   "id": "ed76a550",
   "metadata": {},
   "outputs": [
    {
     "name": "stderr",
     "output_type": "stream",
     "text": [
      "C:\\Users\\Seungyun\\anaconda3\\lib\\site-packages\\scipy\\__init__.py:155: UserWarning: A NumPy version >=1.18.5 and <1.25.0 is required for this version of SciPy (detected version 1.26.0\n",
      "  warnings.warn(f\"A NumPy version >={np_minversion} and <{np_maxversion}\"\n"
     ]
    }
   ],
   "source": [
    "import numpy as np\n",
    "import pandas as pd\n",
    "import gudhi as gd\n",
    "from sklearn import manifold\n",
    "from pylab import *\n",
    "%matplotlib inline"
   ]
  },
  {
   "cell_type": "code",
   "execution_count": 2,
   "id": "b60d5385",
   "metadata": {},
   "outputs": [],
   "source": [
    "path_file = 'C:\\\\Users\\\\Seungyun\\\\CS\\\\TDA\\\\Basic\\\\Gudhi\\\\datasets\\\\Corr_ProteinBinding\\\\'\n",
    "files_list = [\n",
    "    '1anf.corr_1.txt', \n",
    "    '1ez9.corr_1.txt', \n",
    "    '1fqa.corr_2.txt', \n",
    "    '1fqb.corr_3.txt', \n",
    "    '1fqc.corr_2.txt', \n",
    "    '1fqd.corr_3.txt', \n",
    "    '1jw4.corr_4.txt', \n",
    "    '1jw5.corr_5.txt', \n",
    "    '1lls.corr_6.txt', \n",
    "    '1mpd.corr_4.txt', \n",
    "    '1omp.corr_7.txt', \n",
    "    '3hpi.corr_5.txt', \n",
    "    '3mbp.corr_6.txt', \n",
    "    '4mbp.corr_7.txt'\n",
    "]\n",
    "\n",
    "corr_list = [pd.read_csv(path_file + u,\n",
    "                         header = None,\n",
    "                         delim_whitespace = True) for u in files_list]\n",
    "\n",
    "dist_list = [ 1- np.abs(c) for c in corr_list]"
   ]
  },
  {
   "cell_type": "code",
   "execution_count": 3,
   "id": "3a5b3fb9",
   "metadata": {},
   "outputs": [],
   "source": [
    "D0 = dist_list[0]"
   ]
  },
  {
   "cell_type": "markdown",
   "id": "7335032a",
   "metadata": {},
   "source": [
    "### Persistent barcodes and persistence diagram"
   ]
  },
  {
   "cell_type": "code",
   "execution_count": 4,
   "id": "4207522a",
   "metadata": {},
   "outputs": [],
   "source": [
    "skeleton_protein0 = gd.RipsComplex(\n",
    "    distance_matrix = D0.values,\n",
    "    max_edge_length = 0.8\n",
    ")\n",
    "\n",
    "Rips_simplex_tree_protein0 = skeleton_protein0.create_simplex_tree(max_dimension = 2)"
   ]
  },
  {
   "cell_type": "code",
   "execution_count": 5,
   "id": "710e95e0",
   "metadata": {},
   "outputs": [],
   "source": [
    "Barcodes_Rips0 = Rips_simplex_tree_protein0.persistence()"
   ]
  },
  {
   "cell_type": "code",
   "execution_count": 6,
   "id": "e1f1c826",
   "metadata": {},
   "outputs": [
    {
     "name": "stdout",
     "output_type": "stream",
     "text": [
      "(1, (0.07963602000000003, 0.35798637))\n",
      "(1, (0.12677510000000003, 0.39508646999999997))\n",
      "(1, (0.26003449999999995, 0.5273952))\n",
      "(1, (0.07943339999999999, 0.31429881000000004))\n",
      "(1, (0.08248586999999996, 0.30429980999999995))\n",
      "(1, (0.11378021999999999, 0.31171713999999995))\n",
      "(1, (0.07726765000000002, 0.26078758))\n",
      "(1, (0.09107215000000002, 0.25065161999999996))\n",
      "(1, (0.0709843, 0.22765623000000001))\n",
      "(1, (0.09347402000000005, 0.24999733000000002))\n",
      "(1, (0.07013614000000001, 0.22504734000000004))\n",
      "(1, (0.08752541000000003, 0.20355559))\n",
      "(1, (0.21541215000000002, 0.32814707))\n",
      "(1, (0.06835270000000004, 0.17527247))\n",
      "(1, (0.08857625000000002, 0.19539684000000002))\n",
      "(1, (0.08241111999999995, 0.18353136999999997))\n",
      "(1, (0.10362273, 0.20264340000000003))\n",
      "(1, (0.09289979999999998, 0.19181444000000003))\n",
      "(1, (0.09581541999999998, 0.19310879999999997))\n",
      "(1, (0.09541275000000005, 0.18175165000000004))\n"
     ]
    }
   ],
   "source": [
    "for i in range(20):\n",
    "    print(Barcodes_Rips0[i])"
   ]
  },
  {
   "cell_type": "code",
   "execution_count": 7,
   "id": "16706633",
   "metadata": {},
   "outputs": [
    {
     "data": {
      "text/plain": [
       "array([[0.        , 0.01498817],\n",
       "       [0.        , 0.01614179],\n",
       "       [0.        , 0.01618629],\n",
       "       [0.        , 0.01964641],\n",
       "       [0.        , 0.02002598],\n",
       "       [0.        , 0.02019621],\n",
       "       [0.        , 0.02128167],\n",
       "       [0.        , 0.02139837],\n",
       "       [0.        , 0.02189414],\n",
       "       [0.        , 0.02211046],\n",
       "       [0.        , 0.02279135],\n",
       "       [0.        , 0.02305466],\n",
       "       [0.        , 0.02376384],\n",
       "       [0.        , 0.02398958],\n",
       "       [0.        , 0.02427977],\n",
       "       [0.        , 0.02431161],\n",
       "       [0.        , 0.02514183],\n",
       "       [0.        , 0.0252621 ],\n",
       "       [0.        , 0.025566  ],\n",
       "       [0.        , 0.02572414],\n",
       "       [0.        , 0.02668906],\n",
       "       [0.        , 0.02703624],\n",
       "       [0.        , 0.02723942],\n",
       "       [0.        , 0.02730715],\n",
       "       [0.        , 0.02737215],\n",
       "       [0.        , 0.02743006],\n",
       "       [0.        , 0.02758413],\n",
       "       [0.        , 0.02769299],\n",
       "       [0.        , 0.0277112 ],\n",
       "       [0.        , 0.02815389],\n",
       "       [0.        , 0.02889452],\n",
       "       [0.        , 0.0291826 ],\n",
       "       [0.        , 0.02937602],\n",
       "       [0.        , 0.02954253],\n",
       "       [0.        , 0.02960991],\n",
       "       [0.        , 0.02965513],\n",
       "       [0.        , 0.02989476],\n",
       "       [0.        , 0.0299387 ],\n",
       "       [0.        , 0.03005481],\n",
       "       [0.        , 0.03019355],\n",
       "       [0.        , 0.0302212 ],\n",
       "       [0.        , 0.03044412],\n",
       "       [0.        , 0.03061732],\n",
       "       [0.        , 0.03066776],\n",
       "       [0.        , 0.03093647],\n",
       "       [0.        , 0.03093904],\n",
       "       [0.        , 0.03096135],\n",
       "       [0.        , 0.03119385],\n",
       "       [0.        , 0.03127303],\n",
       "       [0.        , 0.03137071],\n",
       "       [0.        , 0.03139056],\n",
       "       [0.        , 0.03141663],\n",
       "       [0.        , 0.03147105],\n",
       "       [0.        , 0.03165437],\n",
       "       [0.        , 0.03197555],\n",
       "       [0.        , 0.0320141 ],\n",
       "       [0.        , 0.03203755],\n",
       "       [0.        , 0.0320416 ],\n",
       "       [0.        , 0.03204383],\n",
       "       [0.        , 0.03205409],\n",
       "       [0.        , 0.03209123],\n",
       "       [0.        , 0.03216506],\n",
       "       [0.        , 0.03251925],\n",
       "       [0.        , 0.03252582],\n",
       "       [0.        , 0.0326297 ],\n",
       "       [0.        , 0.03320018],\n",
       "       [0.        , 0.03320555],\n",
       "       [0.        , 0.03322223],\n",
       "       [0.        , 0.03329767],\n",
       "       [0.        , 0.03348698],\n",
       "       [0.        , 0.03385555],\n",
       "       [0.        , 0.03414255],\n",
       "       [0.        , 0.03438535],\n",
       "       [0.        , 0.03452845],\n",
       "       [0.        , 0.03464101],\n",
       "       [0.        , 0.0351205 ],\n",
       "       [0.        , 0.03512744],\n",
       "       [0.        , 0.03513682],\n",
       "       [0.        , 0.03527348],\n",
       "       [0.        , 0.03541263],\n",
       "       [0.        , 0.03559076],\n",
       "       [0.        , 0.03564263],\n",
       "       [0.        , 0.03568637],\n",
       "       [0.        , 0.03572321],\n",
       "       [0.        , 0.03593942],\n",
       "       [0.        , 0.03595195],\n",
       "       [0.        , 0.03602799],\n",
       "       [0.        , 0.03609681],\n",
       "       [0.        , 0.03610733],\n",
       "       [0.        , 0.03616306],\n",
       "       [0.        , 0.03644183],\n",
       "       [0.        , 0.03654824],\n",
       "       [0.        , 0.03661895],\n",
       "       [0.        , 0.03724071],\n",
       "       [0.        , 0.03733498],\n",
       "       [0.        , 0.03768468],\n",
       "       [0.        , 0.03774493],\n",
       "       [0.        , 0.03798143],\n",
       "       [0.        , 0.03815909],\n",
       "       [0.        , 0.03847974],\n",
       "       [0.        , 0.03851494],\n",
       "       [0.        , 0.03857502],\n",
       "       [0.        , 0.03892696],\n",
       "       [0.        , 0.03907595],\n",
       "       [0.        , 0.03913963],\n",
       "       [0.        , 0.0392337 ],\n",
       "       [0.        , 0.03926192],\n",
       "       [0.        , 0.03947112],\n",
       "       [0.        , 0.03964138],\n",
       "       [0.        , 0.0397164 ],\n",
       "       [0.        , 0.03975846],\n",
       "       [0.        , 0.03984852],\n",
       "       [0.        , 0.03997199],\n",
       "       [0.        , 0.04015835],\n",
       "       [0.        , 0.04017049],\n",
       "       [0.        , 0.04023692],\n",
       "       [0.        , 0.04046704],\n",
       "       [0.        , 0.04072276],\n",
       "       [0.        , 0.04074775],\n",
       "       [0.        , 0.04088823],\n",
       "       [0.        , 0.04095619],\n",
       "       [0.        , 0.04096195],\n",
       "       [0.        , 0.04110269],\n",
       "       [0.        , 0.04123369],\n",
       "       [0.        , 0.04127687],\n",
       "       [0.        , 0.04131072],\n",
       "       [0.        , 0.04140789],\n",
       "       [0.        , 0.04165062],\n",
       "       [0.        , 0.04176154],\n",
       "       [0.        , 0.04181859],\n",
       "       [0.        , 0.04191496],\n",
       "       [0.        , 0.04196476],\n",
       "       [0.        , 0.0420939 ],\n",
       "       [0.        , 0.04227029],\n",
       "       [0.        , 0.04236735],\n",
       "       [0.        , 0.04254986],\n",
       "       [0.        , 0.04260688],\n",
       "       [0.        , 0.04261734],\n",
       "       [0.        , 0.04266441],\n",
       "       [0.        , 0.04296581],\n",
       "       [0.        , 0.04303701],\n",
       "       [0.        , 0.04306739],\n",
       "       [0.        , 0.04317269],\n",
       "       [0.        , 0.04346509],\n",
       "       [0.        , 0.0437037 ],\n",
       "       [0.        , 0.04372465],\n",
       "       [0.        , 0.04383413],\n",
       "       [0.        , 0.04391404],\n",
       "       [0.        , 0.04398658],\n",
       "       [0.        , 0.04400293],\n",
       "       [0.        , 0.04407297],\n",
       "       [0.        , 0.04409098],\n",
       "       [0.        , 0.04435811],\n",
       "       [0.        , 0.04439728],\n",
       "       [0.        , 0.04443404],\n",
       "       [0.        , 0.0444774 ],\n",
       "       [0.        , 0.04451368],\n",
       "       [0.        , 0.04482899],\n",
       "       [0.        , 0.04495304],\n",
       "       [0.        , 0.04547506],\n",
       "       [0.        , 0.04547828],\n",
       "       [0.        , 0.0455478 ],\n",
       "       [0.        , 0.04615431],\n",
       "       [0.        , 0.04619047],\n",
       "       [0.        , 0.04625533],\n",
       "       [0.        , 0.04628039],\n",
       "       [0.        , 0.04678061],\n",
       "       [0.        , 0.04679402],\n",
       "       [0.        , 0.04680115],\n",
       "       [0.        , 0.04704526],\n",
       "       [0.        , 0.04719844],\n",
       "       [0.        , 0.04747816],\n",
       "       [0.        , 0.04767326],\n",
       "       [0.        , 0.04768366],\n",
       "       [0.        , 0.04792482],\n",
       "       [0.        , 0.04797942],\n",
       "       [0.        , 0.04802758],\n",
       "       [0.        , 0.04811274],\n",
       "       [0.        , 0.04824104],\n",
       "       [0.        , 0.04824237],\n",
       "       [0.        , 0.04833753],\n",
       "       [0.        , 0.04848755],\n",
       "       [0.        , 0.0485553 ],\n",
       "       [0.        , 0.04857819],\n",
       "       [0.        , 0.04860536],\n",
       "       [0.        , 0.04885771],\n",
       "       [0.        , 0.04897734],\n",
       "       [0.        , 0.04901851],\n",
       "       [0.        , 0.04944188],\n",
       "       [0.        , 0.04948698],\n",
       "       [0.        , 0.04950527],\n",
       "       [0.        , 0.049558  ],\n",
       "       [0.        , 0.04972988],\n",
       "       [0.        , 0.04981983],\n",
       "       [0.        , 0.04982386],\n",
       "       [0.        , 0.04984923],\n",
       "       [0.        , 0.04986276],\n",
       "       [0.        , 0.05027105],\n",
       "       [0.        , 0.0504428 ],\n",
       "       [0.        , 0.05055695],\n",
       "       [0.        , 0.05066297],\n",
       "       [0.        , 0.05070345],\n",
       "       [0.        , 0.0509538 ],\n",
       "       [0.        , 0.05103037],\n",
       "       [0.        , 0.0510853 ],\n",
       "       [0.        , 0.0511247 ],\n",
       "       [0.        , 0.05119141],\n",
       "       [0.        , 0.05125808],\n",
       "       [0.        , 0.0514161 ],\n",
       "       [0.        , 0.05146225],\n",
       "       [0.        , 0.05157315],\n",
       "       [0.        , 0.05181604],\n",
       "       [0.        , 0.0518984 ],\n",
       "       [0.        , 0.05228542],\n",
       "       [0.        , 0.05245802],\n",
       "       [0.        , 0.05249016],\n",
       "       [0.        , 0.05256426],\n",
       "       [0.        , 0.05261345],\n",
       "       [0.        , 0.052687  ],\n",
       "       [0.        , 0.05269135],\n",
       "       [0.        , 0.05286959],\n",
       "       [0.        , 0.05308782],\n",
       "       [0.        , 0.05312981],\n",
       "       [0.        , 0.05328802],\n",
       "       [0.        , 0.05388745],\n",
       "       [0.        , 0.05406629],\n",
       "       [0.        , 0.05424359],\n",
       "       [0.        , 0.05432115],\n",
       "       [0.        , 0.05434062],\n",
       "       [0.        , 0.05447437],\n",
       "       [0.        , 0.05475445],\n",
       "       [0.        , 0.0547687 ],\n",
       "       [0.        , 0.05480814],\n",
       "       [0.        , 0.05501963],\n",
       "       [0.        , 0.05515901],\n",
       "       [0.        , 0.0551603 ],\n",
       "       [0.        , 0.05521654],\n",
       "       [0.        , 0.05539072],\n",
       "       [0.        , 0.05547035],\n",
       "       [0.        , 0.05559308],\n",
       "       [0.        , 0.05608519],\n",
       "       [0.        , 0.05611108],\n",
       "       [0.        , 0.05611354],\n",
       "       [0.        , 0.05622496],\n",
       "       [0.        , 0.05627249],\n",
       "       [0.        , 0.05637189],\n",
       "       [0.        , 0.057297  ],\n",
       "       [0.        , 0.05729971],\n",
       "       [0.        , 0.05746997],\n",
       "       [0.        , 0.05753706],\n",
       "       [0.        , 0.05846568],\n",
       "       [0.        , 0.05849421],\n",
       "       [0.        , 0.05855491],\n",
       "       [0.        , 0.05858433],\n",
       "       [0.        , 0.05881015],\n",
       "       [0.        , 0.05891398],\n",
       "       [0.        , 0.05910734],\n",
       "       [0.        , 0.05927985],\n",
       "       [0.        , 0.05930276],\n",
       "       [0.        , 0.05937792],\n",
       "       [0.        , 0.0595791 ],\n",
       "       [0.        , 0.05959093],\n",
       "       [0.        , 0.05960105],\n",
       "       [0.        , 0.06001639],\n",
       "       [0.        , 0.06091708],\n",
       "       [0.        , 0.06102111],\n",
       "       [0.        , 0.0611472 ],\n",
       "       [0.        , 0.061409  ],\n",
       "       [0.        , 0.06150065],\n",
       "       [0.        , 0.06153714],\n",
       "       [0.        , 0.06154331],\n",
       "       [0.        , 0.06164122],\n",
       "       [0.        , 0.0619127 ],\n",
       "       [0.        , 0.06200894],\n",
       "       [0.        , 0.06212457],\n",
       "       [0.        , 0.0624782 ],\n",
       "       [0.        , 0.06275173],\n",
       "       [0.        , 0.06289645],\n",
       "       [0.        , 0.06309263],\n",
       "       [0.        , 0.06329755],\n",
       "       [0.        , 0.06339085],\n",
       "       [0.        , 0.06340604],\n",
       "       [0.        , 0.0634087 ],\n",
       "       [0.        , 0.06365607],\n",
       "       [0.        , 0.06370852],\n",
       "       [0.        , 0.06376314],\n",
       "       [0.        , 0.06452474],\n",
       "       [0.        , 0.06464462],\n",
       "       [0.        , 0.06539584],\n",
       "       [0.        , 0.0655788 ],\n",
       "       [0.        , 0.06560913],\n",
       "       [0.        , 0.06565494],\n",
       "       [0.        , 0.06628835],\n",
       "       [0.        , 0.0664005 ],\n",
       "       [0.        , 0.06651979],\n",
       "       [0.        , 0.0665555 ],\n",
       "       [0.        , 0.06667502],\n",
       "       [0.        , 0.0667084 ],\n",
       "       [0.        , 0.06679813],\n",
       "       [0.        , 0.0668217 ],\n",
       "       [0.        , 0.06688167],\n",
       "       [0.        , 0.06728802],\n",
       "       [0.        , 0.06736142],\n",
       "       [0.        , 0.06764264],\n",
       "       [0.        , 0.06825241],\n",
       "       [0.        , 0.06869392],\n",
       "       [0.        , 0.06877336],\n",
       "       [0.        , 0.06892966],\n",
       "       [0.        , 0.06897429],\n",
       "       [0.        , 0.06918575],\n",
       "       [0.        , 0.06954789],\n",
       "       [0.        , 0.06996146],\n",
       "       [0.        , 0.07021497],\n",
       "       [0.        , 0.07103847],\n",
       "       [0.        , 0.07105814],\n",
       "       [0.        , 0.07122811],\n",
       "       [0.        , 0.07162656],\n",
       "       [0.        , 0.07171408],\n",
       "       [0.        , 0.07273788],\n",
       "       [0.        , 0.07326412],\n",
       "       [0.        , 0.07355539],\n",
       "       [0.        , 0.07385251],\n",
       "       [0.        , 0.0738902 ],\n",
       "       [0.        , 0.07394715],\n",
       "       [0.        , 0.07403273],\n",
       "       [0.        , 0.0746566 ],\n",
       "       [0.        , 0.07496114],\n",
       "       [0.        , 0.07510989],\n",
       "       [0.        , 0.07526754],\n",
       "       [0.        , 0.0761947 ],\n",
       "       [0.        , 0.07620041],\n",
       "       [0.        , 0.07628743],\n",
       "       [0.        , 0.07870332],\n",
       "       [0.        , 0.07881973],\n",
       "       [0.        , 0.07893213],\n",
       "       [0.        , 0.07893759],\n",
       "       [0.        , 0.07933292],\n",
       "       [0.        , 0.08004957],\n",
       "       [0.        , 0.08036911],\n",
       "       [0.        , 0.08080199],\n",
       "       [0.        , 0.08109694],\n",
       "       [0.        , 0.081755  ],\n",
       "       [0.        , 0.08176781],\n",
       "       [0.        , 0.08248695],\n",
       "       [0.        , 0.08258634],\n",
       "       [0.        , 0.08299805],\n",
       "       [0.        , 0.08464198],\n",
       "       [0.        , 0.08729047],\n",
       "       [0.        , 0.08744106],\n",
       "       [0.        , 0.08878104],\n",
       "       [0.        , 0.08969459],\n",
       "       [0.        , 0.09321352],\n",
       "       [0.        , 0.09341871],\n",
       "       [0.        , 0.09479173],\n",
       "       [0.        , 0.09541855],\n",
       "       [0.        , 0.10237913],\n",
       "       [0.        , 0.10285434],\n",
       "       [0.        , 0.10715871],\n",
       "       [0.        , 0.10830089],\n",
       "       [0.        , 0.10954903],\n",
       "       [0.        , 0.11366507],\n",
       "       [0.        , 0.11958183],\n",
       "       [0.        , 0.14547953],\n",
       "       [0.        , 0.18964299],\n",
       "       [0.        , 0.39963213],\n",
       "       [0.        , 0.40540978],\n",
       "       [0.        , 0.4251596 ],\n",
       "       [0.        , 0.50723615],\n",
       "       [0.        , 0.66869636],\n",
       "       [0.        ,        inf]])"
      ]
     },
     "execution_count": 7,
     "metadata": {},
     "output_type": "execute_result"
    }
   ],
   "source": [
    "Rips_simplex_tree_protein0.persistence_intervals_in_dimension(0)"
   ]
  },
  {
   "cell_type": "code",
   "execution_count": 8,
   "id": "be7729ca",
   "metadata": {},
   "outputs": [
    {
     "name": "stderr",
     "output_type": "stream",
     "text": [
      "C:\\Users\\Seungyun\\anaconda3\\lib\\site-packages\\gudhi\\persistence_graphical_tools.py:105: UserWarning: This function is not available.\n",
      "ModuleNotFoundError: No module named 'matplotlib'.\n",
      "  warnings.warn(f\"This function is not available.\\nModuleNotFoundError: No module named '{import_error.name}'.\")\n"
     ]
    },
    {
     "data": {
      "text/plain": [
       "<Axes: title={'center': 'Persistence diagram'}, xlabel='Birth', ylabel='Death'>"
      ]
     },
     "execution_count": 8,
     "metadata": {},
     "output_type": "execute_result"
    },
    {
     "data": {
      "image/png": "[encoded data removed]",
      "text/plain": [
       "<Figure size 640x480 with 1 Axes>"
      ]
     },
     "metadata": {},
     "output_type": "display_data"
    }
   ],
   "source": [
    "gd.plot_persistence_diagram(Barcodes_Rips0)"
   ]
  },
  {
   "cell_type": "markdown",
   "id": "5d0f2c19",
   "metadata": {},
   "source": [
    "### Bottleneck distance"
   ]
  },
  {
   "cell_type": "code",
   "execution_count": 9,
   "id": "f66ad21f",
   "metadata": {},
   "outputs": [],
   "source": [
    "D1 = dist_list[1]\n",
    "\n",
    "skeleton_protein1 = gd.RipsComplex(distance_matrix = D1.values, max_edge_length = 0.8)\n",
    "\n",
    "Rips_simplex_tree_protein1 = skeleton_protein1.create_simplex_tree(max_dimension=2)"
   ]
  },
  {
   "cell_type": "code",
   "execution_count": 10,
   "id": "4ce5d060",
   "metadata": {},
   "outputs": [],
   "source": [
    "Barcodes_Rips1 = Rips_simplex_tree_protein1.persistence()"
   ]
  },
  {
   "cell_type": "code",
   "execution_count": 11,
   "id": "7939d905",
   "metadata": {},
   "outputs": [
    {
     "data": {
      "text/plain": [
       "0.05052142999999998"
      ]
     },
     "execution_count": 11,
     "metadata": {},
     "output_type": "execute_result"
    }
   ],
   "source": [
    "I0 = Rips_simplex_tree_protein0.persistence_intervals_in_dimension(1)\n",
    "I1 = Rips_simplex_tree_protein1.persistence_intervals_in_dimension(1)\n",
    "\n",
    "gd.bottleneck_distance(I0,I1)"
   ]
  },
  {
   "cell_type": "markdown",
   "id": "0e5f5cf2",
   "metadata": {},
   "source": [
    "### MDS on the Nottleneck distances"
   ]
  },
  {
   "cell_type": "code",
   "execution_count": 12,
   "id": "7f23b695",
   "metadata": {},
   "outputs": [
    {
     "name": "stdout",
     "output_type": "stream",
     "text": [
      "0\n",
      "1\n",
      "2\n",
      "3\n",
      "4\n",
      "5\n",
      "6\n",
      "7\n",
      "8\n",
      "9\n",
      "10\n",
      "11\n",
      "12\n",
      "13\n"
     ]
    }
   ],
   "source": [
    "persistence_list0 = []\n",
    "persistence_list1 = []\n",
    "\n",
    "i=0\n",
    "\n",
    "for d in dist_list:\n",
    "    print(i)\n",
    "    rips_complex = gd.RipsComplex(distance_matrix = d.values, max_edge_length=0.8)\n",
    "    simplex_tree=rips_complex.create_simplex_tree(max_dimension = 2)\n",
    "    diag = simplex_tree.persistence()\n",
    "    persistence_list0.append(simplex_tree.persistence_intervals_in_dimension(0))\n",
    "    persistence_list1.append(simplex_tree.persistence_intervals_in_dimension(1))\n",
    "    i=i+1"
   ]
  },
  {
   "cell_type": "code",
   "execution_count": 13,
   "id": "f8b12d25",
   "metadata": {},
   "outputs": [],
   "source": [
    "I = len(files_list)\n",
    "B0 = np.zeros((I,I))\n",
    "B1 = np.zeros((I,I))"
   ]
  },
  {
   "cell_type": "code",
   "execution_count": 14,
   "id": "bb8b414b",
   "metadata": {},
   "outputs": [],
   "source": [
    "for i in range(I):\n",
    "    for j in range(i):\n",
    "        B0[i,j] = gd.bottleneck_distance(persistence_list0[i], persistence_list0[j])\n",
    "        B1[i,j] = gd.bottleneck_distance(persistence_list1[i], persistence_list1[j])"
   ]
  },
  {
   "cell_type": "code",
   "execution_count": 15,
   "id": "c58cfdfb",
   "metadata": {},
   "outputs": [],
   "source": [
    "B0 = B0 +B0.transpose()\n",
    "B1 = B1 + B1.transpose()"
   ]
  },
  {
   "cell_type": "code",
   "execution_count": 16,
   "id": "22b7d691",
   "metadata": {},
   "outputs": [
    {
     "name": "stderr",
     "output_type": "stream",
     "text": [
      "C:\\Users\\Seungyun\\anaconda3\\lib\\site-packages\\sklearn\\manifold\\_mds.py:299: FutureWarning: The default value of `normalized_stress` will change to `'auto'` in version 1.4. To suppress this warning, manually set the value of `normalized_stress`.\n",
      "  warnings.warn(\n"
     ]
    }
   ],
   "source": [
    "mds = manifold.MDS(\n",
    "    n_components = 2,\n",
    "    max_iter = 3000,\n",
    "    eps = 1e-9,\n",
    "    dissimilarity = 'precomputed',\n",
    "    n_jobs =1\n",
    ")\n",
    "pos = mds.fit(B0).embedding_"
   ]
  },
  {
   "cell_type": "code",
   "execution_count": 17,
   "id": "45701059",
   "metadata": {},
   "outputs": [
    {
     "data": {
      "text/plain": [
       "<matplotlib.legend.Legend at 0x21e8ae95790>"
      ]
     },
     "execution_count": 17,
     "metadata": {},
     "output_type": "execute_result"
    },
    {
     "data": {
      "image/png": "[encoded data removed]",
      "text/plain": [
       "<Figure size 640x480 with 1 Axes>"
      ]
     },
     "metadata": {},
     "output_type": "display_data"
    }
   ],
   "source": [
    "plt.scatter(pos[0:7,0], pos[0:7,1], color='red', label='closed')\n",
    "plt.scatter(pos[7:I,0], pos[7:I,1], color='blue', label='open')\n",
    "plt.legend(loc=3, borderaxespad=1)"
   ]
  },
  {
   "cell_type": "code",
   "execution_count": 18,
   "id": "3af7a6b2",
   "metadata": {},
   "outputs": [
    {
     "name": "stderr",
     "output_type": "stream",
     "text": [
      "C:\\Users\\Seungyun\\anaconda3\\lib\\site-packages\\sklearn\\manifold\\_mds.py:299: FutureWarning: The default value of `normalized_stress` will change to `'auto'` in version 1.4. To suppress this warning, manually set the value of `normalized_stress`.\n",
      "  warnings.warn(\n"
     ]
    }
   ],
   "source": [
    "pos = mds.fit(B1).embedding_"
   ]
  },
  {
   "cell_type": "code",
   "execution_count": 19,
   "id": "35562d48",
   "metadata": {},
   "outputs": [
    {
     "data": {
      "text/plain": [
       "<matplotlib.legend.Legend at 0x21e8af06fd0>"
      ]
     },
     "execution_count": 19,
     "metadata": {},
     "output_type": "execute_result"
    },
    {
     "data": {
      "image/png": "[encoded data removed]",
      "text/plain": [
       "<Figure size 640x480 with 1 Axes>"
      ]
     },
     "metadata": {},
     "output_type": "display_data"
    }
   ],
   "source": [
    "plt.scatter(pos[0:7,0], pos[0:7,1], color='red', label='closed')\n",
    "plt.scatter(pos[7:I,0], pos[7:I,1], color='blue', label='open')\n",
    "plt.legend(loc=3, borderaxespad=1)"
   ]
  }
 ],
 "metadata": {
  "kernelspec": {
   "display_name": "Python 3 (ipykernel)",
   "language": "python",
   "name": "python3"
  },
  "language_info": {
   "codemirror_mode": {
    "name": "ipython",
    "version": 3
   },
   "file_extension": ".py",
   "mimetype": "text/x-python",
   "name": "python",
   "nbconvert_exporter": "python",
   "pygments_lexer": "ipython3",
   "version": "3.9.13"
  }
 },
 "nbformat": 4,
 "nbformat_minor": 5
}
