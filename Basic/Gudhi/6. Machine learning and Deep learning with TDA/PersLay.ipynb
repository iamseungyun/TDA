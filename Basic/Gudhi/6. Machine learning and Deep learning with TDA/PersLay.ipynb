{
 "cells": [
  {
   "cell_type": "markdown",
   "id": "c4484e88",
   "metadata": {},
   "source": [
    "## Import required Python Libraries"
   ]
  },
  {
   "cell_type": "code",
   "execution_count": null,
   "id": "b6935ce0",
   "metadata": {},
   "outputs": [],
   "source": [
    "import sys\n",
    "print(\"Current version of your system:\")\n",
    "print(sys.version)"
   ]
  },
  {
   "cell_type": "code",
   "execution_count": null,
   "id": "6c7b5085",
   "metadata": {},
   "outputs": [],
   "source": [
    "import numpy as np\n",
    "import tensorflow as tf\n",
    "from sklearn.ensemble import *\n",
    "from sklearn.svm import *\n",
    "from sklearn.pipeline import Pipeline\n",
    "from sklearn.preprocessing import MinMaxScaler\n",
    "from sklearn.model_selection import GridSearchCV, KFold, ShuffleSplit\n",
    "from tensorflow import random_uniform_initializer as rui"
   ]
  },
  {
   "cell_type": "code",
   "execution_count": null,
   "id": "10de07b5",
   "metadata": {},
   "outputs": [],
   "source": [
    "sys.path.append('./perslay/perslay')\n",
    "from perslay import PerslayModel"
   ]
  },
  {
   "cell_type": "code",
   "execution_count": null,
   "id": "f444deb4",
   "metadata": {},
   "outputs": [],
   "source": [
    "sys.path.append('./perslay/tutorial')\n",
    "from experiments import *"
   ]
  },
  {
   "cell_type": "markdown",
   "id": "ed7d8049",
   "metadata": {},
   "source": [
    "## Generate predefined persistence diagram"
   ]
  },
  {
   "cell_type": "code",
   "execution_count": null,
   "id": "3e482510",
   "metadata": {},
   "outputs": [],
   "source": [
    "dataset=\"MUTAG\""
   ]
  },
  {
   "cell_type": "code",
   "execution_count": null,
   "id": "fffb0f56",
   "metadata": {},
   "outputs": [],
   "source": [
    "generate_diagrams_and_features(dataset, path_dataset='./perslay/tutorial/data/MUTAG/')"
   ]
  },
  {
   "cell_type": "code",
   "execution_count": null,
   "id": "29f9e021",
   "metadata": {},
   "outputs": [],
   "source": [
    "diags_dict, F, L = load_data(dataset, path_dataset = './perslay/tutorial/data/MUTAG/')"
   ]
  },
  {
   "cell_type": "code",
   "execution_count": null,
   "id": "31126942",
   "metadata": {},
   "outputs": [],
   "source": [
    "F = np.array(F, dtype=np.float64)"
   ]
  },
  {
   "cell_type": "code",
   "execution_count": null,
   "id": "7e106556",
   "metadata": {},
   "outputs": [],
   "source": [
    "visualize_diagrams(diags_dict)"
   ]
  },
  {
   "cell_type": "markdown",
   "id": "2593b844",
   "metadata": {},
   "source": [
    "## Preprocess persistence diagram"
   ]
  },
  {
   "cell_type": "code",
   "execution_count": null,
   "id": "7f466538",
   "metadata": {},
   "outputs": [],
   "source": [
    "import gudhi.representations as tda\n",
    "\n",
    "thresh = 500\n",
    "\n",
    "tmp = Pipeline([(\"Selector\", tda.DiagramSelector(use=True, point_type=\"finite\")),\n",
    "               (\"ProminentPts\", tda.ProminentPoints(use=True)),\n",
    "               (\"Scaler\", tda.DiagramScaler(use=True, scalers=[([0,1], MinMaxScaler())])),\n",
    "               (\"Padding\", tda.Padding(use=True))])\n",
    "\n",
    "prm = {filt: {\"ProminentPts__num_pts\": min(thresh, max([len(dgm) for dgm in diags_dict[filt]]))}\n",
    "      for filt in diags_dict.keys() if max([len(dgm) for dgm in diags_dict[filt]]) > 0 }\n",
    "\n",
    "diags = []\n",
    "for dt in prm.keys():\n",
    "    param = prm[dt]\n",
    "    tmp.set_params(**param)\n",
    "    diags.append(tmp.fit_transform(diags_dict[dt]))\n",
    "    \n",
    "D,npts = [], len(diags[0])\n",
    "\n",
    "for dt in range(len(prm.keys())):\n",
    "    D.append(np.array(np.concatenate([diags[dt][i][np.newaxis,:] for i in range(npts)], axis=0), dtype=np.float32))"
   ]
  },
  {
   "cell_type": "markdown",
   "id": "b06e668e",
   "metadata": {},
   "source": [
    "## Using PersLay in a neural network"
   ]
  },
  {
   "cell_type": "code",
   "execution_count": null,
   "id": "9a43f444",
   "metadata": {},
   "outputs": [],
   "source": [
    "model, optimizer, loss, metrics = get_model(dataset, F.shape[1])"
   ]
  },
  {
   "cell_type": "code",
   "execution_count": null,
   "id": "d07612c3",
   "metadata": {},
   "outputs": [],
   "source": [
    "perslay_parameters = []"
   ]
  },
  {
   "cell_type": "code",
   "execution_count": null,
   "id": "cefc85f5",
   "metadata": {},
   "outputs": [],
   "source": [
    "perslay_channel = {}"
   ]
  },
  {
   "cell_type": "code",
   "execution_count": null,
   "id": "67b55cec",
   "metadata": {},
   "outputs": [],
   "source": [
    "perslay_channel[\"pweight_train\"] = True\n",
    "perslay_channel[\"layer_train\"]   = True\n",
    "perslay_channel[\"final_model\"]   = \"identity\""
   ]
  },
  {
   "cell_type": "code",
   "execution_count": null,
   "id": "2cdf00f2",
   "metadata": {},
   "outputs": [],
   "source": [
    "perslay_channel[\"layer\"]           = \"Image\"\n",
    "perslay_channel[\"image_size\"]      = (20, 20)\n",
    "perslay_channel[\"image_bnds\"]      = ((-.001, 1.001), (-.001, 1.001))\n",
    "perslay_channel[\"lvariance_init\"]  = 3."
   ]
  },
  {
   "cell_type": "code",
   "execution_count": null,
   "id": "d9fafc69",
   "metadata": {},
   "outputs": [],
   "source": [
    "perslay_channel[\"layer\"]           = \"PermutationEquivariant\"\n",
    "perslay_channel[\"lpeq\"]            = [(5, \"max\")]\n",
    "perslay_channel[\"lweight_init\"]    = rui(0.0, 1.0)\n",
    "perslay_channel[\"lbias_init\"]      = rui(0.0, 1.0)\n",
    "perslay_channel[\"lgamma_init\"]     = rui(0.0, 1.0)"
   ]
  },
  {
   "cell_type": "code",
   "execution_count": null,
   "id": "9558730b",
   "metadata": {},
   "outputs": [],
   "source": [
    "perslay_channel[\"layer\"]           = \"Exponential\"\n",
    "perslay_channel[\"lnum\"]            = 25\n",
    "perslay_channel[\"lmean_init\"]      = rui(0.0, 1.0)\n",
    "perslay_channel[\"lvariance_init\"]  = rui(3.0, 3.0)"
   ]
  },
  {
   "cell_type": "code",
   "execution_count": null,
   "id": "32aea71c",
   "metadata": {},
   "outputs": [],
   "source": [
    "perslay_channel[\"layer\"]           = \"Rational\"\n",
    "perslay_channel[\"lnum\"]            = 25\n",
    "perslay_channel[\"lmean_init\"]      = rui(0.0, 1.0)\n",
    "perslay_channel[\"lvariance_init\"]  = rui(3.0, 3.0) \n",
    "perslay_channel[\"lalpha_init\"]     = rui(3.0, 3.0) "
   ]
  },
  {
   "cell_type": "code",
   "execution_count": null,
   "id": "5c5063c6",
   "metadata": {},
   "outputs": [],
   "source": [
    "perslay_channel[\"layer\"]           = \"RationalHat\"\n",
    "perslay_channel[\"lnum\"]            = 25\n",
    "perslay_channel[\"lmean_init\"]      = rui(0.0, 1.0)\n",
    "perslay_channel[\"lr_init\"]         = rui(3.0, 3.0) \n",
    "perslay_channel[\"q\"]               = 2"
   ]
  },
  {
   "cell_type": "code",
   "execution_count": null,
   "id": "ed710739",
   "metadata": {},
   "outputs": [],
   "source": [
    "perslay_channel[\"layer\"]           = \"Landscape\"\n",
    "perslay_channel[\"lsample_num\"]     = 100\n",
    "perslay_channel[\"lsample_init\"]    = rui(0.0, 1.0) "
   ]
  },
  {
   "cell_type": "code",
   "execution_count": null,
   "id": "bbe17050",
   "metadata": {},
   "outputs": [],
   "source": [
    "perslay_channel[\"layer\"]           = \"BettiCurve\"\n",
    "perslay_channel[\"theta\"]           = 10\n",
    "perslay_channel[\"lsample_num\"]     = 100\n",
    "perslay_channel[\"lsample_init\"]    = rui(0.0, 1.0) "
   ]
  },
  {
   "cell_type": "code",
   "execution_count": null,
   "id": "f8d2bffd",
   "metadata": {},
   "outputs": [],
   "source": [
    "perslay_channel[\"layer\"]           = \"Entropy\"\n",
    "perslay_channel[\"theta\"]           = 10\n",
    "perslay_channel[\"lsample_num\"]     = 100\n",
    "perslay_channel[\"lsample_init\"]    = rui(0.0, 1.0) "
   ]
  },
  {
   "cell_type": "code",
   "execution_count": null,
   "id": "2ad6efd0",
   "metadata": {},
   "outputs": [],
   "source": [
    "perslay_channel[\"pweight\"]       = \"power\"\n",
    "perslay_channel[\"pweight_init\"]  = 1.\n",
    "perslay_channel[\"pweight_power\"] = 1"
   ]
  },
  {
   "cell_type": "code",
   "execution_count": null,
   "id": "2ab44ba3",
   "metadata": {},
   "outputs": [],
   "source": [
    "perslay_channel[\"pweight\"]       = \"grid\"\n",
    "perslay_channel[\"pweight_size\"]  = [20,20]\n",
    "perslay_channel[\"pweight_bnds\"]  = ((-.001, 1.001), (-.001, 1.001))\n",
    "perslay_channel[\"pweight_init\"]  = rui(1.0, 1.0)"
   ]
  },
  {
   "cell_type": "code",
   "execution_count": null,
   "id": "9007aa53",
   "metadata": {},
   "outputs": [],
   "source": [
    "perslay_channel[\"pweight\"]       = \"gmix\"\n",
    "perslay_channel[\"pweight_num\"]   = 3\n",
    "perslay_channel[\"pweight_init\"]  = np.array(np.vstack([np.random.uniform(0.,1.,[2,3]), 5.*np.ones([2,3])]), dtype=np.float32)"
   ]
  },
  {
   "cell_type": "code",
   "execution_count": null,
   "id": "a89c00c4",
   "metadata": {},
   "outputs": [],
   "source": [
    "perslay_channel[\"pweight\"]       = None"
   ]
  },
  {
   "cell_type": "code",
   "execution_count": null,
   "id": "12d52164",
   "metadata": {},
   "outputs": [],
   "source": [
    "perslay_channel[\"perm_op\"] = \"sum\""
   ]
  },
  {
   "cell_type": "code",
   "execution_count": null,
   "id": "df907ec0",
   "metadata": {},
   "outputs": [],
   "source": [
    "perslay_channel[\"perm_op\"] = \"topk\"\n",
    "perslay_channel[\"keep\"]    = 5"
   ]
  },
  {
   "cell_type": "code",
   "execution_count": null,
   "id": "8a12092c",
   "metadata": {},
   "outputs": [],
   "source": [
    "perslay_channel[\"perm_op\"] = \"max\""
   ]
  },
  {
   "cell_type": "code",
   "execution_count": null,
   "id": "3fdb4c30",
   "metadata": {},
   "outputs": [],
   "source": [
    "perslay_channel[\"perm_op\"] = \"mean\""
   ]
  },
  {
   "cell_type": "code",
   "execution_count": null,
   "id": "eb5839f8",
   "metadata": {},
   "outputs": [],
   "source": [
    "perslay_parameters = [perslay_channel for _ in range(len(D))]"
   ]
  },
  {
   "cell_type": "code",
   "execution_count": null,
   "id": "af80dfe4",
   "metadata": {
    "scrolled": true
   },
   "outputs": [],
   "source": [
    "mirrored_strategy = tf.distribute.MirroredStrategy()\n",
    "with mirrored_strategy.scope():\n",
    "    \n",
    "    # Final rho network is a simple dense layer to the number of labels \n",
    "    rho = tf.keras.Sequential([tf.keras.layers.Dense(L.shape[1], activation=\"sigmoid\", input_shape=(16039,))])\n",
    "    model = PerslayModel(name=\"PersLay\", diagdim=2, perslay_parameters=perslay_parameters, rho=rho)\n",
    "\n",
    "    # Optimizer is Adam with exponential decay of learning rate and moving average of variables\n",
    "    lr = tf.keras.optimizers.schedules.ExponentialDecay(initial_learning_rate=.01, decay_steps=20, decay_rate=0.5)\n",
    "    optimizer = tf.keras.optimizers.Adam(learning_rate=lr, epsilon=1e-4)\n",
    "    optimizer = tfa.optimizers.MovingAverage(optimizer, average_decay=0.9) \n",
    "\n",
    "    # Loss is cross-entropy\n",
    "    loss = tf.keras.losses.CategoricalCrossentropy()\n",
    "\n",
    "    # Metric is accuracy\n",
    "    metrics = [tf.keras.metrics.CategoricalAccuracy()]"
   ]
  },
  {
   "cell_type": "markdown",
   "id": "62d4fe4e",
   "metadata": {},
   "source": [
    "### Train"
   ]
  },
  {
   "cell_type": "code",
   "execution_count": null,
   "id": "2ea2bc75",
   "metadata": {},
   "outputs": [],
   "source": [
    "num_pts = len(D[0])"
   ]
  },
  {
   "cell_type": "code",
   "execution_count": null,
   "id": "81b09ad8",
   "metadata": {},
   "outputs": [],
   "source": [
    "test_size = .3\n",
    "epochs    = 100"
   ]
  },
  {
   "cell_type": "code",
   "execution_count": null,
   "id": "85b2715d",
   "metadata": {},
   "outputs": [],
   "source": [
    "random_perm = np.random.permutation(num_pts)\n",
    "train, test = random_perm[:int((1-test_size)*num_pts)], random_perm[int((1-test_size)*num_pts):]"
   ]
  },
  {
   "cell_type": "code",
   "execution_count": null,
   "id": "51d4c5f7",
   "metadata": {},
   "outputs": [],
   "source": [
    "_, tr, te = evaluate_model(L,F,D,train,test,model,optimizer,loss,metrics,num_epochs=epochs,verbose=0,plots=True)"
   ]
  },
  {
   "cell_type": "code",
   "execution_count": null,
   "id": "a35e3eef",
   "metadata": {},
   "outputs": [],
   "source": [
    "print(\"Train accuracy = \" + str(tr[1]) + \", test accuracy = \" + str(te[1]))"
   ]
  },
  {
   "cell_type": "code",
   "execution_count": null,
   "id": "5e65d30a",
   "metadata": {},
   "outputs": [],
   "source": [
    "vectors = model.compute_representations(D).numpy()\n",
    "train_vect, test_vect = np.hstack([vectors[train], F[train]]), np.hstack([vectors[test], F[test]])\n",
    "train_labs, test_labs = np.argmax(L[train], axis=1), np.argmax(L[test], axis=1)"
   ]
  },
  {
   "cell_type": "code",
   "execution_count": null,
   "id": "c674c0c7",
   "metadata": {},
   "outputs": [],
   "source": [
    "clf      = Pipeline([(\"Estimator\", SVC())])\n",
    "clf_prms = [{\"Estimator\":         [RandomForestClassifier()]},\n",
    "            {\"Estimator\":         [SVC()],\n",
    "             \"Estimator__kernel\": [\"linear\", \"rbf\"], \n",
    "             \"Estimator__C\":      [0.1, 1, 10]},\n",
    "            {\"Estimator\":         [AdaBoostClassifier()]}]\n",
    "classifier = GridSearchCV(clf, clf_prms, cv=5)"
   ]
  },
  {
   "cell_type": "code",
   "execution_count": null,
   "id": "fbed991e",
   "metadata": {},
   "outputs": [],
   "source": [
    "classifier.fit(train_vect, train_labs)\n",
    "tr = classifier.score(train_vect, train_labs)\n",
    "te = classifier.score(test_vect,  test_labs)"
   ]
  },
  {
   "cell_type": "code",
   "execution_count": null,
   "id": "ee0fc711",
   "metadata": {},
   "outputs": [],
   "source": [
    "print(\"Train accuracy = \" + str(tr) + \", test accuracy = \" + str(te))"
   ]
  }
 ],
 "metadata": {
  "kernelspec": {
   "display_name": "Python 3 (ipykernel)",
   "language": "python",
   "name": "python3"
  },
  "language_info": {
   "codemirror_mode": {
    "name": "ipython",
    "version": 3
   },
   "file_extension": ".py",
   "mimetype": "text/x-python",
   "name": "python",
   "nbconvert_exporter": "python",
   "pygments_lexer": "ipython3",
   "version": "3.9.13"
  }
 },
 "nbformat": 4,
 "nbformat_minor": 5
}
