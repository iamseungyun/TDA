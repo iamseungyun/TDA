{
 "cells": [
  {
   "cell_type": "code",
   "execution_count": 2,
   "id": "ffb0a1b1",
   "metadata": {},
   "outputs": [
    {
     "name": "stderr",
     "output_type": "stream",
     "text": [
      "Cloning into 'topological-parallax'...\n",
      "warning: redirecting to https://gitlab.com/geomdata/topological-parallax.git/\n"
     ]
    }
   ],
   "source": [
    "!git clone https://gitlab.com/geomdata/topological-parallax"
   ]
  }
 ],
 "metadata": {
  "kernelspec": {
   "display_name": "Python 3 (ipykernel)",
   "language": "python",
   "name": "python3"
  },
  "language_info": {
   "codemirror_mode": {
    "name": "ipython",
    "version": 3
   },
   "file_extension": ".py",
   "mimetype": "text/x-python",
   "name": "python",
   "nbconvert_exporter": "python",
   "pygments_lexer": "ipython3",
   "version": "3.9.13"
  }
 },
 "nbformat": 4,
 "nbformat_minor": 5
}
